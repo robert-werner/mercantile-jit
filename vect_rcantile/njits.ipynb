{
 "cells": [
  {
   "cell_type": "code",
   "execution_count": 18,
   "id": "initial_id",
   "metadata": {
    "collapsed": true,
    "ExecuteTime": {
     "end_time": "2024-03-14T06:39:25.701502Z",
     "start_time": "2024-03-14T06:39:25.697663Z"
    }
   },
   "outputs": [],
   "source": [
    "import numpy as np\n",
    "from numba import float64,int64,njit, prange\n",
    "\n",
    "from vect_rcantile import RE, R2D, CE, EPSILON"
   ]
  },
  {
   "cell_type": "code",
   "outputs": [],
   "source": [
    "@njit('float64[:](float64, float64)', parallel=True, fastmath=True)\n",
    "def truncate_lnglat(lng, lat):\n",
    "    result = np.zeros((2), dtype=float64)\n",
    "    if lng > 180.0:\n",
    "        result[0] = 180.0\n",
    "    elif lng < -180.0:\n",
    "        result[0] = -180.0\n",
    "    else:\n",
    "        result[0] = lng\n",
    "\n",
    "    # Truncate latitudes: similarly, directly modifying the output array\n",
    "    if lat > 90.0:\n",
    "        result[1] = 90.0\n",
    "    elif lat < -90.0:\n",
    "        result[1] = -90.0\n",
    "    else:\n",
    "        result[1] = lat\n",
    "    return result"
   ],
   "metadata": {
    "collapsed": false,
    "ExecuteTime": {
     "end_time": "2024-03-14T06:30:27.148899Z",
     "start_time": "2024-03-14T06:30:25.811973Z"
    }
   },
   "id": "b8e25f58c2f5af88",
   "execution_count": 2
  },
  {
   "cell_type": "code",
   "outputs": [],
   "source": [
    "@njit('float64[:](float64, float64, boolean)', parallel=True, fastmath=True)\n",
    "def xy(lng, lat, truncate=False):\n",
    "    result = np.zeros((2), dtype=float64)\n",
    "    if truncate:\n",
    "        lng, lat = truncate_lnglat(lng, lat)\n",
    "\n",
    "    result[0] = RE * np.radians(lng)\n",
    "\n",
    "    if lat <= -90:\n",
    "        result[1] = -np.inf\n",
    "    elif lat >= 90:\n",
    "        result[1] = np.inf\n",
    "    else:\n",
    "        result[1] = RE * np.log(np.tan((np.pi * 0.25) + (0.5 * np.radians(lat))))\n",
    "\n",
    "    return result"
   ],
   "metadata": {
    "collapsed": false,
    "ExecuteTime": {
     "end_time": "2024-03-14T06:30:29.370083Z",
     "start_time": "2024-03-14T06:30:28.285923Z"
    }
   },
   "id": "905a895d36e196d4",
   "execution_count": 3
  },
  {
   "cell_type": "code",
   "outputs": [],
   "source": [
    "@njit('float64[:](float64, float64, boolean)', parallel=True, fastmath=True)\n",
    "def lnglat(x, y, truncate=False):\n",
    "    result = np.zeros((2), dtype=float64)\n",
    "    result[0], result[1] = (\n",
    "        x * R2D / RE,\n",
    "        ((np.pi * 0.5) - 2.0 * np.arctan(np.exp(-y / RE))) * R2D,\n",
    "    )\n",
    "    if truncate:\n",
    "        result[0], result[1] = truncate_lnglat(result[0], result[1])\n",
    "    return result"
   ],
   "metadata": {
    "collapsed": false,
    "ExecuteTime": {
     "end_time": "2024-03-14T06:30:31.191777Z",
     "start_time": "2024-03-14T06:30:30.317709Z"
    }
   },
   "id": "c4cc11c11e95f9fa",
   "execution_count": 4
  },
  {
   "cell_type": "code",
   "outputs": [],
   "source": [
    "@njit('float64[:](int64, int64, int64)', parallel=True, fastmath=True)\n",
    "def ul(x, y, zoom):\n",
    "    result = np.zeros((2), dtype=float64)\n",
    "    Z2 = 2 ** zoom\n",
    "    lon_deg = x / Z2 * 360.0 - 180.0\n",
    "    lat_rad = np.arctan(np.sinh(np.pi * (1 - 2 * y / Z2)))\n",
    "    lat_deg = np.degrees(lat_rad)\n",
    "    result[0] = lon_deg\n",
    "    result[1] = lat_deg\n",
    "    return result"
   ],
   "metadata": {
    "collapsed": false,
    "ExecuteTime": {
     "end_time": "2024-03-14T06:30:32.529099Z",
     "start_time": "2024-03-14T06:30:31.921758Z"
    }
   },
   "id": "a5b1c7a6482310c2",
   "execution_count": 5
  },
  {
   "cell_type": "code",
   "outputs": [],
   "source": [
    "@njit('float64[:](int64,int64,int64)', parallel=True, fastmath=True)\n",
    "def bounds(x, y, zoom):\n",
    "    result = np.zeros((4), dtype=float64)\n",
    "    Z2 = 2 ** zoom\n",
    "    result[0] = x / Z2 * 360.0 - 180.0\n",
    "    result[1] = np.degrees(np.arctan(np.sinh(np.pi * (1 - 2 * (y + 1) / Z2))))\n",
    "    result[2] = (x + 1) / Z2 * 360.0 - 180.0\n",
    "    result[3] = np.degrees(np.arctan(np.sinh(np.pi * (1 - 2 * y / Z2))))\n",
    "    return result"
   ],
   "metadata": {
    "collapsed": false,
    "ExecuteTime": {
     "end_time": "2024-03-14T06:32:02.981192Z",
     "start_time": "2024-03-14T06:32:02.439898Z"
    }
   },
   "id": "9f4b84d48dd286d5",
   "execution_count": 6
  },
  {
   "cell_type": "code",
   "outputs": [],
   "source": [
    "@njit('float64[:](int64,int64,int64)', parallel=True, fastmath=True)\n",
    "def xy_bounds(x, y, zoom):\n",
    "    result = np.zeros((4), dtype=float64)\n",
    "    tile_size = CE / 2 ** zoom\n",
    "    result[0] = x * tile_size - CE / 2\n",
    "    result[1] = result[0] + tile_size\n",
    "    result[2] = CE / 2 - y * tile_size\n",
    "    result[3] = result[2] - tile_size\n",
    "    return result"
   ],
   "metadata": {
    "collapsed": false,
    "ExecuteTime": {
     "end_time": "2024-03-14T06:34:18.561369Z",
     "start_time": "2024-03-14T06:34:18.116739Z"
    }
   },
   "id": "6094638037290254",
   "execution_count": 9
  },
  {
   "cell_type": "code",
   "outputs": [],
   "source": [
    "@njit('float64[:](float64,float64)', parallel=True, fastmath=True)\n",
    "def _xy(lng, lat):\n",
    "    result = np.zeros((2), dtype=float64)\n",
    "    result[0] = lng / 360.0 + 0.5\n",
    "    result[1] = 0.5 - 0.25 * np.log((1.0 + np.sin(np.radians(lat))) / (1.0 - np.sin(np.radians(lat)))) / np.pi\n",
    "    return result"
   ],
   "metadata": {
    "collapsed": false,
    "ExecuteTime": {
     "end_time": "2024-03-14T06:36:11.683233Z",
     "start_time": "2024-03-14T06:36:11.389319Z"
    }
   },
   "id": "772037df647b1265",
   "execution_count": 13
  },
  {
   "cell_type": "code",
   "outputs": [],
   "source": [
    "@njit('int64[:](float64,float64,int64)', parallel=True, fastmath=True)\n",
    "def tile(lng, lat, zoom):\n",
    "    result = np.zeros((3), dtype=int64)\n",
    "    x = lng / 360.0 + 0.5\n",
    "    y = 0.5 - 0.25 * np.log((1.0 + np.sin(np.radians(lat))) / (1.0 - np.sin(np.radians(lat)))) / np.pi\n",
    "    Z2 = 2 ** zoom\n",
    "    result[2] = zoom\n",
    "    if x <= 0:\n",
    "        result[0] = 0\n",
    "    elif x >= 1:\n",
    "        result[0] = np.int64(Z2 - 1)\n",
    "    else:\n",
    "        result[0] = np.int64(np.floor((x + EPSILON) * Z2))\n",
    "\n",
    "    if y <= 0:\n",
    "        result[1] = 0\n",
    "    elif y >= 1:\n",
    "        result[1] = np.int64(Z2 - 1)\n",
    "    else:\n",
    "        result[1] = np.int64(np.floor((y + EPSILON) * Z2))\n",
    "    return result"
   ],
   "metadata": {
    "collapsed": false,
    "ExecuteTime": {
     "end_time": "2024-03-14T06:40:12.991380Z",
     "start_time": "2024-03-14T06:40:12.437294Z"
    }
   },
   "id": "c4751580531b0fab",
   "execution_count": 20
  },
  {
   "cell_type": "code",
   "outputs": [
    {
     "name": "stdout",
     "output_type": "stream",
     "text": [
      "[670 397  10]\n"
     ]
    }
   ],
   "source": [
    "print(tile(55.679134, 37.263656,10))"
   ],
   "metadata": {
    "collapsed": false,
    "ExecuteTime": {
     "end_time": "2024-03-14T06:46:43.218862Z",
     "start_time": "2024-03-14T06:46:43.211934Z"
    }
   },
   "id": "4fa6a7847a0298e3",
   "execution_count": 33
  },
  {
   "cell_type": "code",
   "outputs": [],
   "source": [
    "@njit('int64[:](int64,int64,int64)', parallel=True, fastmath=True)\n",
    "def quadkey(xtile,ytile,zoom):\n",
    "    \"\"\"Get the quadkey of a tile\n",
    "\n",
    "    Parameters\n",
    "    ----------\n",
    "    tile : Tile or sequence of int\n",
    "        May be be either an instance of Tile or 3 ints, X, Y, Z.\n",
    "\n",
    "    Returns\n",
    "    -------\n",
    "    str\n",
    "\n",
    "    \"\"\"\n",
    "    result = np.zeros((zoom), dtype=int64)\n",
    "    for i in range(zoom):\n",
    "        digit = 0\n",
    "        bit = zoom - i - 1\n",
    "        if (xtile >> bit) & 1:\n",
    "            digit += 1\n",
    "        if (ytile >> bit) & 1:\n",
    "            digit += 2\n",
    "        result[i] = digit\n",
    "    return result"
   ],
   "metadata": {
    "collapsed": false,
    "ExecuteTime": {
     "end_time": "2024-03-14T07:00:10.882463Z",
     "start_time": "2024-03-14T07:00:10.396684Z"
    }
   },
   "id": "fdcbd826a105bf9a",
   "execution_count": 48
  }
 ],
 "metadata": {
  "kernelspec": {
   "display_name": "Python 3",
   "language": "python",
   "name": "python3"
  },
  "language_info": {
   "codemirror_mode": {
    "name": "ipython",
    "version": 2
   },
   "file_extension": ".py",
   "mimetype": "text/x-python",
   "name": "python",
   "nbconvert_exporter": "python",
   "pygments_lexer": "ipython2",
   "version": "2.7.6"
  }
 },
 "nbformat": 4,
 "nbformat_minor": 5
}
